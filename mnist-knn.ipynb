{
 "cells": [
  {
   "cell_type": "code",
   "execution_count": 1,
   "id": "47838948",
   "metadata": {},
   "outputs": [],
   "source": [
    "import torchvision\n",
    "from torch.utils.data import DataLoader\n",
    "from torchvision.datasets import MNIST\n",
    "from torchvision import transforms\n",
    "import torch\n",
    "import numpy as np"
   ]
  },
  {
   "cell_type": "code",
   "execution_count": 2,
   "id": "055b9711",
   "metadata": {},
   "outputs": [],
   "source": [
    "mnist_transforms = [\n",
    "    transforms.ToTensor(),\n",
    "    transforms.Normalize((0.1307,), (0.3081,)),\n",
    "    transforms.Lambda(transforms.Lambda(torch.flatten)), # flatten\n",
    "]\n",
    "transform = transforms.Compose(mnist_transforms)"
   ]
  },
  {
   "cell_type": "code",
   "execution_count": 3,
   "id": "7aac3f0a",
   "metadata": {},
   "outputs": [],
   "source": [
    "train_kwargs = {\"num_workers\": 1, \"pin_memory\": True, \"shuffle\": True, \"batch_size\": 128}\n",
    "test_kwargs = {\"num_workers\": 1, \"pin_memory\": True, \"shuffle\": False, \"batch_size\": 256}\n",
    "\n",
    "data_path = \"./data\"\n",
    "train_dataset = MNIST(data_path, train=True, download=True, transform=transform)\n",
    "test_dataset = MNIST(data_path, train=False, transform=transform)\n",
    "train_loader = torch.utils.data.DataLoader(train_dataset, **train_kwargs)\n",
    "test_loader = torch.utils.data.DataLoader(test_dataset, **test_kwargs)"
   ]
  },
  {
   "cell_type": "code",
   "execution_count": 4,
   "id": "16dc5efc",
   "metadata": {},
   "outputs": [],
   "source": [
    "def dataloader_to_numpy(loader, feature_extractor=None):\n",
    "    X = []\n",
    "    y = []\n",
    "    for xs, ys in loader:\n",
    "        if feature_extractor is not None:\n",
    "            xs = feature_extractor(xs)\n",
    "        X.append(xs.numpy())\n",
    "        y.extend(ys.tolist())\n",
    "    return np.vstack(X).astype(np.float64), np.array(y)"
   ]
  },
  {
   "cell_type": "code",
   "execution_count": 5,
   "id": "354ffb2d",
   "metadata": {},
   "outputs": [],
   "source": [
    "X_train, y_train = dataloader_to_numpy(train_loader)\n",
    "X_test, y_test = dataloader_to_numpy(test_loader)"
   ]
  },
  {
   "cell_type": "code",
   "execution_count": 6,
   "id": "24527b0c",
   "metadata": {},
   "outputs": [
    {
     "data": {
      "text/plain": [
       "((60000, 784), (60000,))"
      ]
     },
     "execution_count": 6,
     "metadata": {},
     "output_type": "execute_result"
    }
   ],
   "source": [
    "X_train.shape, y_train.shape"
   ]
  },
  {
   "cell_type": "markdown",
   "id": "1971fa26",
   "metadata": {},
   "source": [
    "### sklearn's slow version for reference\n"
   ]
  },
  {
   "cell_type": "code",
   "execution_count": 7,
   "id": "00fb05d9",
   "metadata": {},
   "outputs": [],
   "source": [
    "from sklearn.neighbors import KNeighborsClassifier\n",
    "import time"
   ]
  },
  {
   "cell_type": "code",
   "execution_count": 8,
   "id": "7c86c134",
   "metadata": {},
   "outputs": [
    {
     "name": "stdout",
     "output_type": "stream",
     "text": [
      "K:1, d:uniform, test acc:9691/10000 (96.91%)\n"
     ]
    }
   ],
   "source": [
    "train_begin = time.time()\n",
    "knn = KNeighborsClassifier(n_neighbors=1, weights=\"uniform\", n_jobs=-1)\n",
    "knn.fit(X_train, y_train)\n",
    "train_end = time.time()\n",
    "\n",
    "# test\n",
    "inference_begin = time.time()\n",
    "preds = knn.predict(X_test)\n",
    "inference_end = time.time()\n",
    "\n",
    "num_corrects_test = np.sum(preds == y_test)\n",
    "test_acc = num_corrects_test / len(y_test) * 100\n",
    "\n",
    "\n",
    "print(f\"K:{1}, d:{'uniform'}, test acc:{num_corrects_test}/{len(y_test)} ({test_acc}%)\")"
   ]
  },
  {
   "cell_type": "code",
   "execution_count": 9,
   "id": "c0f3201a",
   "metadata": {},
   "outputs": [
    {
     "name": "stdout",
     "output_type": "stream",
     "text": [
      "training: 0.041sec, inference: 16.484sec\n"
     ]
    }
   ],
   "source": [
    "print(f\"training: {train_end-train_begin:.3f}sec, inference: {inference_end-inference_begin:.3f}sec\")"
   ]
  },
  {
   "cell_type": "markdown",
   "id": "af331a0b",
   "metadata": {},
   "source": [
    "### faiss"
   ]
  },
  {
   "cell_type": "code",
   "execution_count": 10,
   "id": "e03175a3",
   "metadata": {},
   "outputs": [],
   "source": [
    "import faiss"
   ]
  },
  {
   "cell_type": "markdown",
   "id": "c2a68b02",
   "metadata": {},
   "source": [
    "Select best indexes by following the guide\n",
    "https://github.com/facebookresearch/faiss/wiki/Guidelines-to-choose-an-index"
   ]
  },
  {
   "cell_type": "code",
   "execution_count": 11,
   "id": "c6312386",
   "metadata": {},
   "outputs": [],
   "source": [
    "d = X_train.shape[1]\n",
    "k = 1\n",
    "M = 32\n",
    "\n",
    "train_begin = time.time()\n",
    "# index = faiss.IndexFlatL2(d)  # exact case\n",
    "index = faiss.IndexHNSWFlat(d, M)\n",
    "index.add(X_train.astype(\"float32\")) \n",
    "train_end = time.time()"
   ]
  },
  {
   "cell_type": "code",
   "execution_count": 12,
   "id": "baa3f6ef",
   "metadata": {},
   "outputs": [],
   "source": [
    "inference_begin = time.time()\n",
    "D, I = index.search(X_test.astype(\"float32\"), k) \n",
    "inference_end = time.time()"
   ]
  },
  {
   "cell_type": "code",
   "execution_count": 13,
   "id": "c2f71372",
   "metadata": {},
   "outputs": [],
   "source": [
    "predicted_labels = y_train[I].flatten()"
   ]
  },
  {
   "cell_type": "code",
   "execution_count": 14,
   "id": "94a08869",
   "metadata": {},
   "outputs": [
    {
     "data": {
      "text/plain": [
       "96.58"
      ]
     },
     "execution_count": 14,
     "metadata": {},
     "output_type": "execute_result"
    }
   ],
   "source": [
    "np.mean(predicted_labels==y_test) * 100"
   ]
  },
  {
   "cell_type": "code",
   "execution_count": 15,
   "id": "510a5487",
   "metadata": {},
   "outputs": [
    {
     "name": "stdout",
     "output_type": "stream",
     "text": [
      "training: 4.880sec, inference: 0.528sec\n"
     ]
    }
   ],
   "source": [
    "print(f\"training: {train_end-train_begin:.3f}sec, inference: {inference_end-inference_begin:.3f}sec\")"
   ]
  },
  {
   "cell_type": "code",
   "execution_count": null,
   "id": "f0629670",
   "metadata": {},
   "outputs": [],
   "source": []
  }
 ],
 "metadata": {
  "kernelspec": {
   "display_name": "Python 3 (ipykernel)",
   "language": "python",
   "name": "python3"
  },
  "language_info": {
   "codemirror_mode": {
    "name": "ipython",
    "version": 3
   },
   "file_extension": ".py",
   "mimetype": "text/x-python",
   "name": "python",
   "nbconvert_exporter": "python",
   "pygments_lexer": "ipython3",
   "version": "3.8.0"
  }
 },
 "nbformat": 4,
 "nbformat_minor": 5
}
